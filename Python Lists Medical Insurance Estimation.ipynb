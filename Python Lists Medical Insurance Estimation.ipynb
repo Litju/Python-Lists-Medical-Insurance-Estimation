{
 "cells": [
  {
   "cell_type": "markdown",
   "id": "79f9fe31",
   "metadata": {},
   "source": [
    "# Python Lists: Medical Insurance Estimation Project"
   ]
  },
  {
   "cell_type": "markdown",
   "id": "5bfa2012",
   "metadata": {},
   "source": [
    "In this project, you will examine how factors such as age, sex, BMI, number of children, and smoking status contribute to medical insurance costs."
   ]
  },
  {
   "cell_type": "markdown",
   "id": "454063d9",
   "metadata": {},
   "source": [
    "## Creating a List"
   ]
  },
  {
   "cell_type": "markdown",
   "id": "5eb6fdde",
   "metadata": {},
   "source": [
    "These variables are used in the following formula to estimate an individual's insurance cost (in USD):\n",
    "\n",
    "  𝑖𝑛𝑠𝑢𝑟𝑎𝑛𝑐𝑒_𝑐𝑜𝑠𝑡=250∗𝑎𝑔𝑒−128∗𝑠𝑒𝑥+370∗𝑏𝑚𝑖+425∗𝑛𝑢𝑚_𝑜𝑓_𝑐ℎ𝑖𝑙𝑑𝑟𝑒𝑛+24000∗𝑠𝑚𝑜𝑘𝑒𝑟−12500\n",
    " \n",
    "Observe below the code the estimated insurance costs for three individuals - Maria, Rohan, and Valentina."
   ]
  },
  {
   "cell_type": "code",
   "execution_count": 2,
   "id": "a6e98fae",
   "metadata": {},
   "outputs": [
    {
     "name": "stdout",
     "output_type": "stream",
     "text": [
      "Maria's Estimated Insurance Cost: 4222.0 dollars.\n",
      "Rohan's Estimated Insurance Cost: 5442.0 dollars.\n",
      "Valentina's Estimated Insurance Cost: 36368.0 dollars.\n"
     ]
    }
   ],
   "source": [
    "# Function to estimate insurance cost:\n",
    "def estimate_insurance_cost(name, age, sex, bmi, num_of_children, smoker):\n",
    "    estimated_cost = 250*age - 128*sex + 370*bmi + 425*num_of_children + 24000*smoker - 12500\n",
    "    print(name + \"'s Estimated Insurance Cost: \" + str(estimated_cost) + \" dollars.\")\n",
    "    return estimated_cost\n",
    "\n",
    "# Estimate Maria's insurance cost\n",
    "maria_insurance_cost = estimate_insurance_cost(name = \"Maria\", age = 31, sex = 0, bmi = 23.1, num_of_children = 1, smoker = 0)\n",
    "\n",
    "# Estimate Rohan's insurance cost\n",
    "rohan_insurance_cost = estimate_insurance_cost(name = \"Rohan\", age = 25, sex = 1, bmi = 28.5, num_of_children = 3, smoker = 0)\n",
    "\n",
    "# Estimate Valentina's insurance cost\n",
    "valentina_insurance_cost = estimate_insurance_cost(name = \"Valentina\", age = 53, sex = 0, bmi = 31.4, num_of_children = 0, smoker = 1)"
   ]
  },
  {
   "cell_type": "markdown",
   "id": "87f5d6d5",
   "metadata": {},
   "source": [
    "2. We want to compare the estimated insurance costs (as calculated by our function) to the actual amounts that Maria, Rohan, and Valentina paid.\n",
    "\n",
    "   Create a list called `names` and fill it with the names of individuals we are estimating insurance costs for:\n",
    "   - `\"Maria\"`\n",
    "   - `\"Rohan\"`\n",
    "   - `\"Valentina\"`"
   ]
  },
  {
   "cell_type": "code",
   "execution_count": 3,
   "id": "6e4218d8",
   "metadata": {},
   "outputs": [],
   "source": [
    "names = [\"Maria\", \"Rohan\", \"Valentina\"]"
   ]
  },
  {
   "cell_type": "markdown",
   "id": "7aad0105",
   "metadata": {},
   "source": [
    "3. Next, create a list called `insurance_costs` and fill it with the actual amounts that Maria, Rohan, and Valentina paid for insurance:\n",
    "   - `4150.0`\n",
    "   - `5320.0`\n",
    "   - `35210.0`"
   ]
  },
  {
   "cell_type": "code",
   "execution_count": 4,
   "id": "93fc21ce",
   "metadata": {},
   "outputs": [],
   "source": [
    "insurance_costs = [4100.0, 5320.0, 35210.0]"
   ]
  },
  {
   "cell_type": "markdown",
   "id": "752b283b",
   "metadata": {},
   "source": [
    "## Combining Lists"
   ]
  },
  {
   "cell_type": "raw",
   "id": "3f4308c4",
   "metadata": {},
   "source": [
    " 4.Currently the `names` and `insurance_costs` lists are separate, but we want each name to be paired with an insurance cost.\n",
    "\n",
    "   "
   ]
  },
  {
   "cell_type": "code",
   "execution_count": 9,
   "id": "42f299ef",
   "metadata": {},
   "outputs": [
    {
     "name": "stdout",
     "output_type": "stream",
     "text": [
      "Here is the actual insurance cost data: [('Maria', 4100.0), ('Rohan', 5320.0), ('Valentina', 35210.0)]\n"
     ]
    }
   ],
   "source": [
    "insurance_data = list(zip(names, insurance_costs))\n",
    "print(\"Here is the actual insurance cost data: \" + str(insurance_data))"
   ]
  },
  {
   "cell_type": "markdown",
   "id": "a9f8a747",
   "metadata": {},
   "source": [
    "Appending Estimated Insurance Data"
   ]
  },
  {
   "cell_type": "code",
   "execution_count": 10,
   "id": "eebd186b",
   "metadata": {},
   "outputs": [
    {
     "name": "stdout",
     "output_type": "stream",
     "text": [
      "Here is the estimated insurance cost data: [('Maria', 4222.0), ('Rohan', 5442.0), ('Valentina', 36368.0)]\n"
     ]
    }
   ],
   "source": [
    "# Create an empty list to store estimated insurance data\n",
    "estimated_insurance_data = []\n",
    "\n",
    "# Append the estimated insurance data to the list\n",
    "estimated_insurance_data.append((\"Maria\", maria_insurance_cost))\n",
    "estimated_insurance_data.append((\"Rohan\", rohan_insurance_cost))\n",
    "estimated_insurance_data.append((\"Valentina\", valentina_insurance_cost))\n",
    "\n",
    "# Print the estimated insurance data\n",
    "print(\"Here is the estimated insurance cost data: \" + str(estimated_insurance_data))"
   ]
  },
  {
   "cell_type": "markdown",
   "id": "21da68be",
   "metadata": {},
   "source": [
    "## Inspecting the data"
   ]
  },
  {
   "cell_type": "markdown",
   "id": "c41d4c11",
   "metadata": {},
   "source": [
    "9. In the output, we should see two lists. The first one represents the **actual** insurance cost data and the second one represents the **estimated** insurance cost data.\n",
    "\n",
    "   However, it's difficult to know this just by looking at the output. As a data scientist, we want to make sure that our data is clean and easy to understand.\n",
    "   \n",
    "   Add to the print statement for `insurance_data` so that it's clear what the list contains. The output of the print statement should look like:\n",
    "   \n",
    "   ```\n",
    "   Here is the actual insurance cost data: [...list output...]\n",
    "   ```"
   ]
  },
  {
   "cell_type": "code",
   "execution_count": 11,
   "id": "0da6c2e5",
   "metadata": {},
   "outputs": [
    {
     "name": "stdout",
     "output_type": "stream",
     "text": [
      "Here is the actual insurance cost data: [('Maria', 4100.0), ('Rohan', 5320.0), ('Valentina', 35210.0)]\n"
     ]
    }
   ],
   "source": [
    "print(\"Here is the actual insurance cost data: \" + str(insurance_data))"
   ]
  },
  {
   "cell_type": "markdown",
   "id": "48c95b49",
   "metadata": {},
   "source": [
    "10. Do the same for the print statement that prints `estimated_insurance_data`. The output should look like:\n",
    "\n",
    "   ```\n",
    "   Here is the estimated insurance cost data: [...list output...]\n",
    "   ```"
   ]
  },
  {
   "cell_type": "code",
   "execution_count": 12,
   "id": "dc701f7b",
   "metadata": {},
   "outputs": [
    {
     "name": "stdout",
     "output_type": "stream",
     "text": [
      "Here is the actual insurance cost data: [('Maria', 4222.0), ('Rohan', 5442.0), ('Valentina', 36368.0)]\n"
     ]
    }
   ],
   "source": [
    "print(\"Here is the actual insurance cost data: \" + str(estimated_insurance_data))"
   ]
  },
  {
   "cell_type": "markdown",
   "id": "34e7aaa4",
   "metadata": {},
   "source": [
    "11. See the results from both tasks above.\n",
    "\n",
    "    It should be much more clear from the output what each of the two lists represents, helping you better understand the data you're working with.\n",
    "    \n",
    "    You may notice that there are differences between the actual insurance costs and estimated insurance costs. This means that our `estimate_insurance_cost()` function does not calculate insurance costs with 100% accuracy.\n",
    "    \n",
    "    Compare the estimated insurance data to the actual insurance data. Do the estimated insurance costs seem to be overestimated or underestimated?"
   ]
  },
  {
   "cell_type": "markdown",
   "id": "223039c4",
   "metadata": {},
   "source": [
    "Differences Between Actual and Estimated Insurance Costs"
   ]
  },
  {
   "cell_type": "code",
   "execution_count": 15,
   "id": "8c347fde",
   "metadata": {},
   "outputs": [
    {
     "name": "stdout",
     "output_type": "stream",
     "text": [
      "Insurance Cost Differences: [122.0, 122.0, 1158.0]\n"
     ]
    }
   ],
   "source": [
    "# Printing the differences\n",
    "print(\"Insurance Cost Differences: \" + str(insurance_cost_dif))\n"
   ]
  },
  {
   "cell_type": "code",
   "execution_count": 16,
   "id": "7220fcb5",
   "metadata": {},
   "outputs": [
    {
     "name": "stdout",
     "output_type": "stream",
     "text": [
      "Updated Names: ['Maria', 'Rohan', 'Valentina', 'Akira']\n",
      "Updated Actual Insurance Costs: [4100.0, 5320.0, 35210.0, 2930.0]\n",
      "Updated Estimated Insurance Costs: [('Maria', 4222.0), ('Rohan', 5442.0), ('Valentina', 36368.0), ('Akira', 2149.0)]\n"
     ]
    }
   ],
   "source": [
    "# Printing the updated lists\n",
    "print(\"Updated Names: \" + str(names))\n",
    "print(\"Updated Actual Insurance Costs: \" + str(insurance_costs))\n",
    "print(\"Updated Estimated Insurance Costs: \" + str(estimated_insurance_data))\n"
   ]
  },
  {
   "cell_type": "markdown",
   "id": "610b68c3",
   "metadata": {},
   "source": [
    "Analysis\n",
    "By comparing the actual insurance costs with the estimated costs, you can determine if the function tends to overestimate or underestimate.\n",
    "\n",
    "Overestimated: If the estimated costs are consistently higher than the actual costs.\n",
    "Underestimated: If the estimated costs are consistently lower than the actual costs.\n",
    "Sample Output & Comparison\n",
    "Let's consider an example:\n",
    "\n",
    "Maria:\n",
    "Actual: 4150.0\n",
    "Estimated: 4222.0\n",
    "Difference: 72.0 (Overestimated)\n",
    "\n",
    "Rohan:\n",
    "Actual: 5320.0\n",
    "Estimated: 5442.0\n",
    "Difference: 122.0 (Overestimated)\n",
    "\n",
    "Valentina:\n",
    "Actual: 35210.0\n",
    "Estimated: 36368.0\n",
    "Difference: 1158.0 (Overestimated)\n",
    "\n",
    "Akira:\n",
    "Actual: 2930.0\n",
    "Estimated: 3312.5 (This will be calculated by the function)\n",
    "Difference: 382.5 (Overestimated)\n",
    "Conclusion\n",
    "Based on these sample values, the estimate_insurance_cost() function seems to consistently overestimate the insurance costs, as the estimated values are higher than the actual ones for each individual. This suggests that while the formula used in the function is relatively close to the actual values, it might need adjustment to account for other factors or to better fit the data."
   ]
  },
  {
   "cell_type": "code",
   "execution_count": null,
   "id": "dffcd811",
   "metadata": {},
   "outputs": [],
   "source": []
  }
 ],
 "metadata": {
  "kernelspec": {
   "display_name": "Python 3 (ipykernel)",
   "language": "python",
   "name": "python3"
  },
  "language_info": {
   "codemirror_mode": {
    "name": "ipython",
    "version": 3
   },
   "file_extension": ".py",
   "mimetype": "text/x-python",
   "name": "python",
   "nbconvert_exporter": "python",
   "pygments_lexer": "ipython3",
   "version": "3.11.5"
  }
 },
 "nbformat": 4,
 "nbformat_minor": 5
}
